{
  "nbformat": 4,
  "nbformat_minor": 0,
  "metadata": {
    "colab": {
      "provenance": []
    },
    "kernelspec": {
      "name": "python3",
      "display_name": "Python 3"
    },
    "language_info": {
      "name": "python"
    }
  },
  "cells": [
    {
      "cell_type": "markdown",
      "source": [
        "**USE PYSPARK TO CLEAN AND PREPROCESS A LARGE DATASET, HANDLING MISSING VALUES AND DUPLICATES.**"
      ],
      "metadata": {
        "id": "7ewocG1OVlr6"
      }
    },
    {
      "cell_type": "code",
      "source": [
        "!pip install pyspark py4j"
      ],
      "metadata": {
        "colab": {
          "base_uri": "https://localhost:8080/"
        },
        "id": "USRg7BqAXhpp",
        "outputId": "ae267874-13c9-484b-a653-3b5e62890a75"
      },
      "execution_count": 6,
      "outputs": [
        {
          "output_type": "stream",
          "name": "stdout",
          "text": [
            "Requirement already satisfied: pyspark in /usr/local/lib/python3.11/dist-packages (3.5.4)\n",
            "Requirement already satisfied: py4j in /usr/local/lib/python3.11/dist-packages (0.10.9.7)\n"
          ]
        }
      ]
    },
    {
      "cell_type": "code",
      "source": [
        "from pyspark.sql import SparkSession\n",
        "from pyspark.sql.functions import *"
      ],
      "metadata": {
        "id": "IFiUk42dYVlK"
      },
      "execution_count": 12,
      "outputs": []
    },
    {
      "cell_type": "code",
      "source": [
        "spark = SparkSession.builder.appName(\"DataCleaning\").getOrCreate()\n",
        "df = spark.read.csv(\"GOOG.csv\", header=True, inferSchema=True)"
      ],
      "metadata": {
        "id": "0_ILdQL9aRE6"
      },
      "execution_count": 15,
      "outputs": []
    },
    {
      "cell_type": "code",
      "source": [
        "df = df.na.drop()\n",
        "df = df.dropDuplicates()\n",
        "\n",
        "df.show()\n",
        "spark.stop()"
      ],
      "metadata": {
        "colab": {
          "base_uri": "https://localhost:8080/"
        },
        "id": "HS6vXeylak0u",
        "outputId": "510f2e88-e38c-4cc5-a5ab-21f331a23db8"
      },
      "execution_count": 16,
      "outputs": [
        {
          "output_type": "stream",
          "name": "stdout",
          "text": [
            "+----------+-----------+-----------+-----------+-----------+-----------+-------+\n",
            "|      Date|       Open|       High|        Low|      Close|  Adj Close| Volume|\n",
            "+----------+-----------+-----------+-----------+-----------+-----------+-------+\n",
            "|03-08-2020|1486.640015|1490.469971|1465.640015|1474.449951|1474.449951|2330200|\n",
            "|16-06-2020|1445.219971| 1455.02002|1425.900024|1442.719971|1442.719971|1709200|\n",
            "|21-07-2020| 1586.98999| 1586.98999|1554.280029|1558.420044|1558.420044|1218600|\n",
            "|18-08-2020|1526.180054|1562.469971|1523.709961|1558.599976|1558.599976|2027100|\n",
            "|30-07-2020|     1497.0|1537.869995|1492.219971|1531.449951|1531.449951|1671400|\n",
            "|05-06-2020|1413.170044|1445.050049|     1406.0|1438.390015|1438.390015|1734900|\n",
            "|15-06-2020|1390.800049|1424.800049|1387.920044|1419.849976|1419.849976|1503900|\n",
            "|14-07-2020|1490.310059|1522.949951|     1483.5|1520.579956|1520.579956|1585000|\n",
            "|01-07-2020|1411.099976|     1443.0|1409.819946|1438.040039|1438.040039|1775200|\n",
            "|04-06-2020|1430.400024|1438.959961| 1404.72998|1412.180054|1412.180054|1484300|\n",
            "|09-07-2020|1506.449951|1522.719971|1488.084961| 1510.98999| 1510.98999|1423300|\n",
            "|23-07-2020|1566.969971|1571.869995|1507.391968|1515.680054|1515.680054|1627600|\n",
            "|20-05-2020|1396.859985|1440.839966|     1396.0| 1416.72998| 1416.72998|1692200|\n",
            "|26-05-2020| 1437.27002|     1441.0|1412.130005| 1417.02002| 1417.02002|2060600|\n",
            "|05-08-2020|1469.300049|1482.410034|1463.459961|1473.609985|1473.609985|1979500|\n",
            "|21-05-2020|     1408.0| 1415.48999|1393.449951|1402.800049|1402.800049|1385000|\n",
            "|24-06-2020| 1461.51001|1475.420044|    1429.75|1431.969971|1431.969971|1756000|\n",
            "|12-08-2020|1485.579956|1512.385986|    1485.25|1506.619995|1506.619995|1437700|\n",
            "|15-07-2020|1523.130005|1535.329956|     1498.0|1513.640015|1513.640015|1610700|\n",
            "|28-07-2020|1525.180054| 1526.47998|1497.660034|1500.339966|1500.339966|1702200|\n",
            "+----------+-----------+-----------+-----------+-----------+-----------+-------+\n",
            "only showing top 20 rows\n",
            "\n"
          ]
        }
      ]
    }
  ]
}